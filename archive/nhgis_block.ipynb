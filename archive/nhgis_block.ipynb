{
 "cells": [
  {
   "cell_type": "code",
   "execution_count": null,
   "metadata": {},
   "outputs": [],
   "source": [
    "from constants import CRS\n",
    "import pandas as pd\n",
    "import geopandas as gpd\n",
    "import os\n",
    "from tqdm import tqdm"
   ]
  },
  {
   "cell_type": "code",
   "execution_count": null,
   "metadata": {},
   "outputs": [],
   "source": [
    "# census level\n",
    "geo_level = 'block'\n",
    "\n",
    "# demos filepath\n",
    "DEMOS_PATH = 'data/nhgis/demos/nhgis0002_ds248_2020_block.csv'\n",
    "\n",
    "# GIS directory\n",
    "GIS_DIR = 'data/nhgis/gis'\n",
    "\n",
    "# encoding\n",
    "ENCODING = 'iso-8859-1'\n",
    "\n",
    "# GIS key\n",
    "KEY = 'GISJOIN'\n",
    "\n",
    "# Population Column from Source Data\n",
    "POP_ID = 'U7B001'"
   ]
  },
  {
   "cell_type": "code",
   "execution_count": null,
   "metadata": {},
   "outputs": [],
   "source": [
    "\n",
    "# get shapefile from directory\n",
    "shapefiles = []\n",
    "\n",
    "for subdir, dirs, files in os.walk(GIS_DIR):\n",
    "    for file in files:\n",
    "        if file[-3:] == 'shp':\n",
    "            shapefiles.append(subdir + '/' + file)"
   ]
  },
  {
   "cell_type": "code",
   "execution_count": null,
   "metadata": {},
   "outputs": [],
   "source": [
    "read_shapes = lambda x : gpd.read_file(x)[[KEY, 'geometry']].set_index(KEY)\n",
    "\n",
    "geometries = pd.concat(\n",
    "    [read_shapes(filepath) for filepath in tqdm(shapefiles)]\n",
    ")"
   ]
  },
  {
   "cell_type": "code",
   "execution_count": null,
   "metadata": {},
   "outputs": [],
   "source": [
    "populations = pd.read_csv(DEMOS_PATH , usecols = [KEY, POP_ID], low_memory = True, encoding=ENCODING)"
   ]
  },
  {
   "cell_type": "code",
   "execution_count": null,
   "metadata": {},
   "outputs": [],
   "source": [
    "merged = geometries.merge(populations, on=KEY)"
   ]
  },
  {
   "cell_type": "code",
   "execution_count": null,
   "metadata": {},
   "outputs": [],
   "source": [
    "import dask"
   ]
  },
  {
   "cell_type": "code",
   "execution_count": null,
   "metadata": {},
   "outputs": [],
   "source": [
    "merged.to_file('cache/nhgis.shp')"
   ]
  },
  {
   "cell_type": "code",
   "execution_count": null,
   "metadata": {},
   "outputs": [],
   "source": [
    "geo_list = []\n",
    "\n",
    "for file in shapefiles:\n",
    "    geo = dask.delayed(read_shapes)(file)\n",
    "    geo_list.append(geo)\n",
    "\n",
    "total = dask.delayed(pd.concat)(geo_list)"
   ]
  }
 ],
 "metadata": {
  "interpreter": {
   "hash": "666a64107d96738607fce0b22e372aadd30fd1eae957005e92f5bf4da8280913"
  },
  "kernelspec": {
   "display_name": "Python 3.8.12 64-bit",
   "language": "python",
   "name": "python3"
  },
  "language_info": {
   "codemirror_mode": {
    "name": "ipython",
    "version": 3
   },
   "file_extension": ".py",
   "mimetype": "text/x-python",
   "name": "python",
   "nbconvert_exporter": "python",
   "pygments_lexer": "ipython3",
   "version": "3.8.12"
  },
  "orig_nbformat": 2
 },
 "nbformat": 4,
 "nbformat_minor": 2
}
