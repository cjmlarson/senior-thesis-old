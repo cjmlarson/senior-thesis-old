{
 "cells": [
  {
   "cell_type": "code",
   "execution_count": null,
   "metadata": {},
   "outputs": [],
   "source": []
  },
  {
   "cell_type": "code",
   "execution_count": 1,
   "metadata": {},
   "outputs": [],
   "source": [
    "from constants import CRS\n",
    "import pandas as pd\n",
    "import geopandas as gpd"
   ]
  },
  {
   "cell_type": "code",
   "execution_count": 33,
   "metadata": {},
   "outputs": [],
   "source": [
    "# demos filepath\n",
    "DEMOS_PATH = 'data/uscb/demos/DECENNIALPL2020.P1_data_with_overlays_2021-11-05T143124.csv'\n",
    "\n",
    "# GIS directory\n",
    "GIS_PATH = 'data/uscb/gis/cb_2020_us_tract_500k.shp'\n",
    "\n",
    "# encoding\n",
    "ENCODING = 'iso-8859-1'\n",
    "\n",
    "# GIS key\n",
    "GIS_KEY = 'AFFGEOID'\n",
    "\n",
    "# Demos key\n",
    "DEMOS_KEY = 'GEO_ID'\n",
    "\n",
    "# Population Column from Source Data\n",
    "POP_SOURCE = 'P1_001N'\n",
    "\n",
    "# Population Column in Output File\n",
    "POP_OUT = 'POP'\n",
    "\n",
    "# Demos file header\n",
    "DEMOS_HEADER = [0, 1]\n",
    "\n",
    "# Geometry columnn\n",
    "GEOM = 'geometry'\n",
    "\n",
    "# Output Path\n",
    "OUT_PATH = 'cache/uscb/merged/tract'"
   ]
  },
  {
   "cell_type": "code",
   "execution_count": 7,
   "metadata": {},
   "outputs": [],
   "source": [
    "# read in tract shapefiles and create geodataframe\n",
    "geos = gpd.read_file(GIS_PATH).set_index(GIS_KEY)[[GEOM]]"
   ]
  },
  {
   "cell_type": "code",
   "execution_count": 26,
   "metadata": {},
   "outputs": [],
   "source": [
    "# read in tract populations and create series\n",
    "pops = pd.read_csv(\n",
    "    DEMOS_PATH, \n",
    "    usecols=[DEMOS_KEY, POP_SOURCE],\n",
    "    low_memory=True,\n",
    "    encoding=ENCODING,\n",
    ").set_index(DEMOS_KEY)[POP_SOURCE]"
   ]
  },
  {
   "cell_type": "code",
   "execution_count": 27,
   "metadata": {},
   "outputs": [],
   "source": [
    "# rename series\n",
    "pops.name = POP_OUT"
   ]
  },
  {
   "cell_type": "code",
   "execution_count": 38,
   "metadata": {},
   "outputs": [],
   "source": [
    "# merged geos and pops\n",
    "merged = geos.merge(pops, left_index=True, right_index=True)"
   ]
  },
  {
   "cell_type": "code",
   "execution_count": 39,
   "metadata": {},
   "outputs": [],
   "source": [
    "# set CRS\n",
    "merged.crs = CRS"
   ]
  },
  {
   "cell_type": "code",
   "execution_count": null,
   "metadata": {},
   "outputs": [],
   "source": [
    "# output shapefiles with populations\n",
    "merged.to_file(OUT_PATH)"
   ]
  }
 ],
 "metadata": {
  "interpreter": {
   "hash": "666a64107d96738607fce0b22e372aadd30fd1eae957005e92f5bf4da8280913"
  },
  "kernelspec": {
   "display_name": "Python 3.8.12 64-bit ('thesis': conda)",
   "language": "python",
   "name": "python3"
  },
  "language_info": {
   "codemirror_mode": {
    "name": "ipython",
    "version": 3
   },
   "file_extension": ".py",
   "mimetype": "text/x-python",
   "name": "python",
   "nbconvert_exporter": "python",
   "pygments_lexer": "ipython3",
   "version": "3.8.12"
  },
  "orig_nbformat": 4
 },
 "nbformat": 4,
 "nbformat_minor": 2
}
