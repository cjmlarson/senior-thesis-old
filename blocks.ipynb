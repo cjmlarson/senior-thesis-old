{
 "cells": [
  {
   "cell_type": "code",
   "execution_count": 20,
   "metadata": {},
   "outputs": [],
   "source": [
    "from constants import NAD83\n",
    "import pandas as pd\n",
    "import geopandas as gpd"
   ]
  },
  {
   "cell_type": "code",
   "execution_count": 21,
   "metadata": {},
   "outputs": [],
   "source": [
    "# demos filepath\n",
    "DEMOS_PATH = 'data/nhgis/demos/block/nhgis0002_ds248_2020_block.csv'\n",
    "\n",
    "# GIS directory\n",
    "GIS_PATH = 'data/nhgis/gis/block/nhgis0001_shapefile_tl2020_500_block_2020/VT_block_2020.shp'\n",
    "\n",
    "# encoding\n",
    "ENCODING = 'iso-8859-1'\n",
    "\n",
    "# GIS key\n",
    "KEY = 'GISJOIN'\n",
    "\n",
    "# State key\n",
    "STATE = 'STATE'\n",
    "\n",
    "# County key\n",
    "COUNTY = 'COUNTY'\n",
    "\n",
    "# Population Column from Source Data\n",
    "POP_SOURCE = 'U7B001'\n",
    "\n",
    "# Population Column in Output File\n",
    "POP_OUT = 'POP'\n",
    "\n",
    "# Geometry columnn\n",
    "GEOM = 'geometry'\n",
    "\n",
    "# Output Path\n",
    "OUT_PATH = 'cache/nhgis/merged/block'"
   ]
  },
  {
   "cell_type": "code",
   "execution_count": 22,
   "metadata": {},
   "outputs": [],
   "source": [
    "# read in tract shapefiles and create geodataframe\n",
    "geos = gpd.read_file(GIS_PATH).set_index(KEY)[[GEOM]].to_crs(NAD83)"
   ]
  },
  {
   "cell_type": "code",
   "execution_count": 23,
   "metadata": {},
   "outputs": [],
   "source": [
    "# read in tract populations and create series\n",
    "pops = pd.read_csv(DEMOS_PATH , usecols = [KEY, STATE, COUNTY, POP_SOURCE], low_memory = True, encoding=ENCODING).set_index(KEY)[[STATE, COUNTY, POP_SOURCE]]\n",
    "\n",
    "# rename population column\n",
    "pops = pops.rename({POP_SOURCE: POP_OUT}, axis=1)"
   ]
  },
  {
   "cell_type": "code",
   "execution_count": null,
   "metadata": {},
   "outputs": [],
   "source": [
    "# merged geos and pops\n",
    "merged = geos.merge(pops, on=KEY)"
   ]
  },
  {
   "cell_type": "code",
   "execution_count": null,
   "metadata": {},
   "outputs": [],
   "source": [
    "# output shapefiles with populations\n",
    "merged.to_file(OUT_PATH)"
   ]
  }
 ],
 "metadata": {
  "interpreter": {
   "hash": "666a64107d96738607fce0b22e372aadd30fd1eae957005e92f5bf4da8280913"
  },
  "kernelspec": {
   "display_name": "Python 3.8.12 64-bit ('thesis': conda)",
   "language": "python",
   "name": "python3"
  },
  "language_info": {
   "codemirror_mode": {
    "name": "ipython",
    "version": 3
   },
   "file_extension": ".py",
   "mimetype": "text/x-python",
   "name": "python",
   "nbconvert_exporter": "python",
   "pygments_lexer": "ipython3",
   "version": "3.8.12"
  },
  "orig_nbformat": 4
 },
 "nbformat": 4,
 "nbformat_minor": 2
}
