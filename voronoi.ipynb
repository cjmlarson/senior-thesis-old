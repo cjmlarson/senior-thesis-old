{
 "cells": [
  {
   "cell_type": "code",
   "execution_count": 118,
   "metadata": {},
   "outputs": [],
   "source": [
    "import adip\n",
    "from scipy.spatial import Voronoi\n",
    "from shapely.geometry import Polygon\n",
    "import geopandas as gpd\n",
    "from constants import CRS\n",
    "import nhgis"
   ]
  },
  {
   "cell_type": "code",
   "execution_count": 101,
   "metadata": {},
   "outputs": [],
   "source": [
    "airports = adip.get_adip()\n",
    "\n",
    "# will fix underlying soon\n",
    "airports = airports.groupby('Loc Id').head(1)\n",
    "airports = airports.set_index('Loc Id')\n",
    "airports = airports[['Name', 'geometry']]"
   ]
  },
  {
   "cell_type": "code",
   "execution_count": 37,
   "metadata": {},
   "outputs": [],
   "source": [
    "# get the coordinates\n",
    "coords = list(zip(airports['geometry'].x, airports['geometry'].y))\n",
    "\n",
    "# add a bounding box\n",
    "coords.append((-180, 90))\n",
    "coords.append((180, 90))\n",
    "coords.append((-180, -90))\n",
    "coords.append((180, -90))"
   ]
  },
  {
   "cell_type": "code",
   "execution_count": 42,
   "metadata": {},
   "outputs": [],
   "source": [
    "# run SciPy voronoi code\n",
    "vor = Voronoi(coords)"
   ]
  },
  {
   "cell_type": "code",
   "execution_count": 45,
   "metadata": {},
   "outputs": [],
   "source": [
    "# get regions\n",
    "r = vor.regions"
   ]
  },
  {
   "cell_type": "code",
   "execution_count": 46,
   "metadata": {},
   "outputs": [],
   "source": [
    "# replace corners with empty arrays\n",
    "r = [i if -1 not in i else [] for i in r]\n",
    "r = [i if len(i) >= 3 else [] for i in r]"
   ]
  },
  {
   "cell_type": "code",
   "execution_count": 48,
   "metadata": {},
   "outputs": [],
   "source": [
    "# get vertices\n",
    "v = vor.vertices"
   ]
  },
  {
   "cell_type": "code",
   "execution_count": 53,
   "metadata": {},
   "outputs": [],
   "source": [
    "# create polygons\n",
    "p = []\n",
    "for reg in r:\n",
    "    p.append(Polygon([v[i] for i in reg]))"
   ]
  },
  {
   "cell_type": "code",
   "execution_count": 67,
   "metadata": {},
   "outputs": [],
   "source": [
    "# input point to output region\n",
    "ptr = vor.point_region"
   ]
  },
  {
   "cell_type": "code",
   "execution_count": 77,
   "metadata": {},
   "outputs": [],
   "source": [
    "# sorted regions\n",
    "# remove bounding box\n",
    "sorted = [p[i] for i in ptr][:-4]"
   ]
  },
  {
   "cell_type": "code",
   "execution_count": 78,
   "metadata": {},
   "outputs": [
    {
     "data": {
      "text/plain": [
       "4344"
      ]
     },
     "execution_count": 78,
     "metadata": {},
     "output_type": "execute_result"
    }
   ],
   "source": [
    "len(sorted)"
   ]
  },
  {
   "cell_type": "code",
   "execution_count": 95,
   "metadata": {},
   "outputs": [],
   "source": [
    "# geoseries of regions\n",
    "g = gpd.GeoSeries(sorted)\n",
    "g.crs = CRS\n",
    "g.name = 'region'"
   ]
  },
  {
   "cell_type": "code",
   "execution_count": 102,
   "metadata": {},
   "outputs": [
    {
     "data": {
      "text/plain": [
       "0       POLYGON ((-177.15795 59.05234, -176.23801 57.9...\n",
       "1       POLYGON ((-155.77792 57.29345, -156.10714 55.4...\n",
       "2       POLYGON ((-161.66688 60.85034, -161.85726 61.3...\n",
       "3       POLYGON ((-161.34437 61.33183, -161.28317 61.3...\n",
       "4       POLYGON ((-163.13505 51.88194, -165.06117 57.1...\n",
       "                              ...                        \n",
       "4339    POLYGON ((-104.69482 42.59091, -104.88161 43.0...\n",
       "4340    POLYGON ((-104.36777 42.37659, -103.73789 42.6...\n",
       "4341    POLYGON ((-105.02936 44.43088, -105.27056 43.5...\n",
       "4342    POLYGON ((-107.12461 43.55039, -107.35838 44.2...\n",
       "4343    POLYGON ((-108.55357 44.44843, -108.55408 44.2...\n",
       "Name: region, Length: 4344, dtype: geometry"
      ]
     },
     "execution_count": 102,
     "metadata": {},
     "output_type": "execute_result"
    }
   ],
   "source": [
    "g"
   ]
  },
  {
   "cell_type": "code",
   "execution_count": 104,
   "metadata": {},
   "outputs": [],
   "source": [
    "df = airports.reset_index().join(g)"
   ]
  },
  {
   "cell_type": "code",
   "execution_count": 113,
   "metadata": {},
   "outputs": [],
   "source": [
    "airports = df.set_geometry('region')[['Loc Id', 'Name', 'region']]"
   ]
  },
  {
   "cell_type": "code",
   "execution_count": 114,
   "metadata": {},
   "outputs": [],
   "source": [
    "airports = airports.set_index('Loc Id')"
   ]
  },
  {
   "cell_type": "code",
   "execution_count": 116,
   "metadata": {},
   "outputs": [
    {
     "data": {
      "text/html": [
       "<div>\n",
       "<style scoped>\n",
       "    .dataframe tbody tr th:only-of-type {\n",
       "        vertical-align: middle;\n",
       "    }\n",
       "\n",
       "    .dataframe tbody tr th {\n",
       "        vertical-align: top;\n",
       "    }\n",
       "\n",
       "    .dataframe thead th {\n",
       "        text-align: right;\n",
       "    }\n",
       "</style>\n",
       "<table border=\"1\" class=\"dataframe\">\n",
       "  <thead>\n",
       "    <tr style=\"text-align: right;\">\n",
       "      <th></th>\n",
       "      <th>Name</th>\n",
       "      <th>region</th>\n",
       "    </tr>\n",
       "    <tr>\n",
       "      <th>Loc Id</th>\n",
       "      <th></th>\n",
       "      <th></th>\n",
       "    </tr>\n",
       "  </thead>\n",
       "  <tbody>\n",
       "    <tr>\n",
       "      <th>ADK</th>\n",
       "      <td>ADAK</td>\n",
       "      <td>POLYGON ((-177.15795 59.05234, -176.23801 57.9...</td>\n",
       "    </tr>\n",
       "    <tr>\n",
       "      <th>AKK</th>\n",
       "      <td>AKHIOK</td>\n",
       "      <td>POLYGON ((-155.77792 57.29345, -156.10714 55.4...</td>\n",
       "    </tr>\n",
       "    <tr>\n",
       "      <th>Z13</th>\n",
       "      <td>AKIACHAK</td>\n",
       "      <td>POLYGON ((-161.66688 60.85034, -161.85726 61.3...</td>\n",
       "    </tr>\n",
       "    <tr>\n",
       "      <th>AKI</th>\n",
       "      <td>AKIAK</td>\n",
       "      <td>POLYGON ((-161.34437 61.33183, -161.28317 61.3...</td>\n",
       "    </tr>\n",
       "    <tr>\n",
       "      <th>7AK</th>\n",
       "      <td>AKUTAN</td>\n",
       "      <td>POLYGON ((-163.13505 51.88194, -165.06117 57.1...</td>\n",
       "    </tr>\n",
       "  </tbody>\n",
       "</table>\n",
       "</div>"
      ],
      "text/plain": [
       "            Name                                             region\n",
       "Loc Id                                                             \n",
       "ADK         ADAK  POLYGON ((-177.15795 59.05234, -176.23801 57.9...\n",
       "AKK       AKHIOK  POLYGON ((-155.77792 57.29345, -156.10714 55.4...\n",
       "Z13     AKIACHAK  POLYGON ((-161.66688 60.85034, -161.85726 61.3...\n",
       "AKI        AKIAK  POLYGON ((-161.34437 61.33183, -161.28317 61.3...\n",
       "7AK       AKUTAN  POLYGON ((-163.13505 51.88194, -165.06117 57.1..."
      ]
     },
     "execution_count": 116,
     "metadata": {},
     "output_type": "execute_result"
    }
   ],
   "source": [
    "airports.head()"
   ]
  },
  {
   "cell_type": "code",
   "execution_count": 130,
   "metadata": {},
   "outputs": [],
   "source": [
    "census = gpd.read_file('cache/uscb/merged/tract/tract.shp')"
   ]
  },
  {
   "cell_type": "code",
   "execution_count": 165,
   "metadata": {},
   "outputs": [],
   "source": [
    "intersections = airports.sjoin(census, how='left', predicate='intersects').reset_index()\n",
    "intersections = intersections.merge(census[['index', 'geometry']], on='index').set_index('Loc Id')"
   ]
  },
  {
   "cell_type": "code",
   "execution_count": 172,
   "metadata": {},
   "outputs": [],
   "source": [
    "pton = intersections.loc['39N'].copy()"
   ]
  },
  {
   "cell_type": "code",
   "execution_count": 173,
   "metadata": {},
   "outputs": [],
   "source": [
    "pton['overlap'] = pton['region'].intersection(pton['geometry'])"
   ]
  },
  {
   "cell_type": "code",
   "execution_count": 180,
   "metadata": {},
   "outputs": [],
   "source": [
    "pton['ratio'] = pton['overlap'].to_crs('+proj=cea').area / pton['geometry'].to_crs('+proj=cea').area"
   ]
  },
  {
   "cell_type": "code",
   "execution_count": 182,
   "metadata": {},
   "outputs": [],
   "source": [
    "pton['in_pop'] = pton['POP']*pton['ratio']"
   ]
  },
  {
   "cell_type": "code",
   "execution_count": 184,
   "metadata": {},
   "outputs": [
    {
     "data": {
      "text/plain": [
       "138344.56727398283"
      ]
     },
     "execution_count": 184,
     "metadata": {},
     "output_type": "execute_result"
    }
   ],
   "source": [
    "pton['in_pop'].sum()"
   ]
  }
 ],
 "metadata": {
  "interpreter": {
   "hash": "666a64107d96738607fce0b22e372aadd30fd1eae957005e92f5bf4da8280913"
  },
  "kernelspec": {
   "display_name": "Python 3.8.12 64-bit ('thesis': conda)",
   "language": "python",
   "name": "python3"
  },
  "language_info": {
   "codemirror_mode": {
    "name": "ipython",
    "version": 3
   },
   "file_extension": ".py",
   "mimetype": "text/x-python",
   "name": "python",
   "nbconvert_exporter": "python",
   "pygments_lexer": "ipython3",
   "version": "3.8.12"
  },
  "orig_nbformat": 4
 },
 "nbformat": 4,
 "nbformat_minor": 2
}
